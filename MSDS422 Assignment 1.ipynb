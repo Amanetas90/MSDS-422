{
 "cells": [
  {
   "cell_type": "code",
   "execution_count": 2,
   "metadata": {},
   "outputs": [],
   "source": [
    "# Import modules\n",
    "import pandas as pd\n",
    "import matplotlib.pyplot as plt\n",
    "import seaborn as sns\n",
    "from sklearn import tree\n",
    "from sklearn.metrics import accuracy_score\n",
    "from sklearn import preprocessing\n",
    "from sklearn.preprocessing import MinMaxScaler\n",
    "# Figures inline and set visualization style\n",
    "%matplotlib inline\n",
    "sns.set()"
   ]
  },
  {
   "cell_type": "code",
   "execution_count": 3,
   "metadata": {},
   "outputs": [],
   "source": [
    "\n",
    "# Import test and train datasets\n",
    "covid_train ='C:/Users/afm6343/COVID-19-geographic-disbtribution-worldwide-train.csv'\n",
    "df_train = pd.read_csv(covid_train)\n"
   ]
  },
  {
   "cell_type": "code",
   "execution_count": 4,
   "metadata": {},
   "outputs": [
    {
     "data": {
      "text/html": [
       "<div>\n",
       "<style scoped>\n",
       "    .dataframe tbody tr th:only-of-type {\n",
       "        vertical-align: middle;\n",
       "    }\n",
       "\n",
       "    .dataframe tbody tr th {\n",
       "        vertical-align: top;\n",
       "    }\n",
       "\n",
       "    .dataframe thead th {\n",
       "        text-align: right;\n",
       "    }\n",
       "</style>\n",
       "<table border=\"1\" class=\"dataframe\">\n",
       "  <thead>\n",
       "    <tr style=\"text-align: right;\">\n",
       "      <th></th>\n",
       "      <th>dateRep</th>\n",
       "      <th>day</th>\n",
       "      <th>month</th>\n",
       "      <th>year</th>\n",
       "      <th>cases</th>\n",
       "      <th>deaths</th>\n",
       "      <th>countriesAndTerritories</th>\n",
       "      <th>geoId</th>\n",
       "      <th>countryterritoryCode</th>\n",
       "      <th>popData2019</th>\n",
       "      <th>continentExp</th>\n",
       "      <th>Cumulative_number_for_14_days_of_COVID-19_cases_per_100000</th>\n",
       "    </tr>\n",
       "  </thead>\n",
       "  <tbody>\n",
       "    <tr>\n",
       "      <th>0</th>\n",
       "      <td>9/20/2020</td>\n",
       "      <td>20</td>\n",
       "      <td>9</td>\n",
       "      <td>2020</td>\n",
       "      <td>125</td>\n",
       "      <td>4</td>\n",
       "      <td>Afghanistan</td>\n",
       "      <td>AF</td>\n",
       "      <td>AFG</td>\n",
       "      <td>38041757.0</td>\n",
       "      <td>Asia</td>\n",
       "      <td>1.892657</td>\n",
       "    </tr>\n",
       "    <tr>\n",
       "      <th>1</th>\n",
       "      <td>9/19/2020</td>\n",
       "      <td>19</td>\n",
       "      <td>9</td>\n",
       "      <td>2020</td>\n",
       "      <td>47</td>\n",
       "      <td>1</td>\n",
       "      <td>Afghanistan</td>\n",
       "      <td>AF</td>\n",
       "      <td>AFG</td>\n",
       "      <td>38041757.0</td>\n",
       "      <td>Asia</td>\n",
       "      <td>1.616645</td>\n",
       "    </tr>\n",
       "    <tr>\n",
       "      <th>2</th>\n",
       "      <td>9/18/2020</td>\n",
       "      <td>18</td>\n",
       "      <td>9</td>\n",
       "      <td>2020</td>\n",
       "      <td>0</td>\n",
       "      <td>0</td>\n",
       "      <td>Afghanistan</td>\n",
       "      <td>AF</td>\n",
       "      <td>AFG</td>\n",
       "      <td>38041757.0</td>\n",
       "      <td>Asia</td>\n",
       "      <td>1.535155</td>\n",
       "    </tr>\n",
       "    <tr>\n",
       "      <th>3</th>\n",
       "      <td>9/17/2020</td>\n",
       "      <td>17</td>\n",
       "      <td>9</td>\n",
       "      <td>2020</td>\n",
       "      <td>17</td>\n",
       "      <td>0</td>\n",
       "      <td>Afghanistan</td>\n",
       "      <td>AF</td>\n",
       "      <td>AFG</td>\n",
       "      <td>38041757.0</td>\n",
       "      <td>Asia</td>\n",
       "      <td>1.653446</td>\n",
       "    </tr>\n",
       "    <tr>\n",
       "      <th>4</th>\n",
       "      <td>9/16/2020</td>\n",
       "      <td>16</td>\n",
       "      <td>9</td>\n",
       "      <td>2020</td>\n",
       "      <td>40</td>\n",
       "      <td>10</td>\n",
       "      <td>Afghanistan</td>\n",
       "      <td>AF</td>\n",
       "      <td>AFG</td>\n",
       "      <td>38041757.0</td>\n",
       "      <td>Asia</td>\n",
       "      <td>1.708649</td>\n",
       "    </tr>\n",
       "  </tbody>\n",
       "</table>\n",
       "</div>"
      ],
      "text/plain": [
       "     dateRep  day  month  year  cases  deaths countriesAndTerritories geoId  \\\n",
       "0  9/20/2020   20      9  2020    125       4             Afghanistan    AF   \n",
       "1  9/19/2020   19      9  2020     47       1             Afghanistan    AF   \n",
       "2  9/18/2020   18      9  2020      0       0             Afghanistan    AF   \n",
       "3  9/17/2020   17      9  2020     17       0             Afghanistan    AF   \n",
       "4  9/16/2020   16      9  2020     40      10             Afghanistan    AF   \n",
       "\n",
       "  countryterritoryCode  popData2019 continentExp  \\\n",
       "0                  AFG   38041757.0         Asia   \n",
       "1                  AFG   38041757.0         Asia   \n",
       "2                  AFG   38041757.0         Asia   \n",
       "3                  AFG   38041757.0         Asia   \n",
       "4                  AFG   38041757.0         Asia   \n",
       "\n",
       "   Cumulative_number_for_14_days_of_COVID-19_cases_per_100000  \n",
       "0                                           1.892657           \n",
       "1                                           1.616645           \n",
       "2                                           1.535155           \n",
       "3                                           1.653446           \n",
       "4                                           1.708649           "
      ]
     },
     "execution_count": 4,
     "metadata": {},
     "output_type": "execute_result"
    }
   ],
   "source": [
    "df_train.head()"
   ]
  },
  {
   "cell_type": "code",
   "execution_count": 5,
   "metadata": {},
   "outputs": [
    {
     "data": {
      "text/plain": [
       "dateRep                                                        object\n",
       "day                                                             int64\n",
       "month                                                           int64\n",
       "year                                                            int64\n",
       "cases                                                           int64\n",
       "deaths                                                          int64\n",
       "countriesAndTerritories                                        object\n",
       "geoId                                                          object\n",
       "countryterritoryCode                                           object\n",
       "popData2019                                                   float64\n",
       "continentExp                                                   object\n",
       "Cumulative_number_for_14_days_of_COVID-19_cases_per_100000    float64\n",
       "dtype: object"
      ]
     },
     "execution_count": 5,
     "metadata": {},
     "output_type": "execute_result"
    }
   ],
   "source": [
    "df_train.dtypes"
   ]
  },
  {
   "cell_type": "code",
   "execution_count": 6,
   "metadata": {
    "scrolled": true
   },
   "outputs": [
    {
     "data": {
      "text/html": [
       "<div>\n",
       "<style scoped>\n",
       "    .dataframe tbody tr th:only-of-type {\n",
       "        vertical-align: middle;\n",
       "    }\n",
       "\n",
       "    .dataframe tbody tr th {\n",
       "        vertical-align: top;\n",
       "    }\n",
       "\n",
       "    .dataframe thead th {\n",
       "        text-align: right;\n",
       "    }\n",
       "</style>\n",
       "<table border=\"1\" class=\"dataframe\">\n",
       "  <thead>\n",
       "    <tr style=\"text-align: right;\">\n",
       "      <th></th>\n",
       "      <th>dateRep</th>\n",
       "      <th>day</th>\n",
       "      <th>month</th>\n",
       "      <th>year</th>\n",
       "      <th>cases</th>\n",
       "      <th>deaths</th>\n",
       "      <th>countriesAndTerritories</th>\n",
       "      <th>geoId</th>\n",
       "      <th>countryterritoryCode</th>\n",
       "      <th>popData2019</th>\n",
       "      <th>continentExp</th>\n",
       "      <th>Cumulative_number_for_14_days_of_COVID-19_cases_per_100000</th>\n",
       "    </tr>\n",
       "  </thead>\n",
       "  <tbody>\n",
       "    <tr>\n",
       "      <th>43922</th>\n",
       "      <td>3/25/2020</td>\n",
       "      <td>25</td>\n",
       "      <td>3</td>\n",
       "      <td>2020</td>\n",
       "      <td>0</td>\n",
       "      <td>0</td>\n",
       "      <td>Zimbabwe</td>\n",
       "      <td>ZW</td>\n",
       "      <td>ZWE</td>\n",
       "      <td>14645473.0</td>\n",
       "      <td>Africa</td>\n",
       "      <td>NaN</td>\n",
       "    </tr>\n",
       "    <tr>\n",
       "      <th>43923</th>\n",
       "      <td>3/24/2020</td>\n",
       "      <td>24</td>\n",
       "      <td>3</td>\n",
       "      <td>2020</td>\n",
       "      <td>0</td>\n",
       "      <td>1</td>\n",
       "      <td>Zimbabwe</td>\n",
       "      <td>ZW</td>\n",
       "      <td>ZWE</td>\n",
       "      <td>14645473.0</td>\n",
       "      <td>Africa</td>\n",
       "      <td>NaN</td>\n",
       "    </tr>\n",
       "    <tr>\n",
       "      <th>43924</th>\n",
       "      <td>3/23/2020</td>\n",
       "      <td>23</td>\n",
       "      <td>3</td>\n",
       "      <td>2020</td>\n",
       "      <td>0</td>\n",
       "      <td>0</td>\n",
       "      <td>Zimbabwe</td>\n",
       "      <td>ZW</td>\n",
       "      <td>ZWE</td>\n",
       "      <td>14645473.0</td>\n",
       "      <td>Africa</td>\n",
       "      <td>NaN</td>\n",
       "    </tr>\n",
       "    <tr>\n",
       "      <th>43925</th>\n",
       "      <td>3/22/2020</td>\n",
       "      <td>22</td>\n",
       "      <td>3</td>\n",
       "      <td>2020</td>\n",
       "      <td>1</td>\n",
       "      <td>0</td>\n",
       "      <td>Zimbabwe</td>\n",
       "      <td>ZW</td>\n",
       "      <td>ZWE</td>\n",
       "      <td>14645473.0</td>\n",
       "      <td>Africa</td>\n",
       "      <td>NaN</td>\n",
       "    </tr>\n",
       "    <tr>\n",
       "      <th>43926</th>\n",
       "      <td>3/21/2020</td>\n",
       "      <td>21</td>\n",
       "      <td>3</td>\n",
       "      <td>2020</td>\n",
       "      <td>1</td>\n",
       "      <td>0</td>\n",
       "      <td>Zimbabwe</td>\n",
       "      <td>ZW</td>\n",
       "      <td>ZWE</td>\n",
       "      <td>14645473.0</td>\n",
       "      <td>Africa</td>\n",
       "      <td>NaN</td>\n",
       "    </tr>\n",
       "  </tbody>\n",
       "</table>\n",
       "</div>"
      ],
      "text/plain": [
       "         dateRep  day  month  year  cases  deaths countriesAndTerritories  \\\n",
       "43922  3/25/2020   25      3  2020      0       0                Zimbabwe   \n",
       "43923  3/24/2020   24      3  2020      0       1                Zimbabwe   \n",
       "43924  3/23/2020   23      3  2020      0       0                Zimbabwe   \n",
       "43925  3/22/2020   22      3  2020      1       0                Zimbabwe   \n",
       "43926  3/21/2020   21      3  2020      1       0                Zimbabwe   \n",
       "\n",
       "      geoId countryterritoryCode  popData2019 continentExp  \\\n",
       "43922    ZW                  ZWE   14645473.0       Africa   \n",
       "43923    ZW                  ZWE   14645473.0       Africa   \n",
       "43924    ZW                  ZWE   14645473.0       Africa   \n",
       "43925    ZW                  ZWE   14645473.0       Africa   \n",
       "43926    ZW                  ZWE   14645473.0       Africa   \n",
       "\n",
       "       Cumulative_number_for_14_days_of_COVID-19_cases_per_100000  \n",
       "43922                                                NaN           \n",
       "43923                                                NaN           \n",
       "43924                                                NaN           \n",
       "43925                                                NaN           \n",
       "43926                                                NaN           "
      ]
     },
     "execution_count": 6,
     "metadata": {},
     "output_type": "execute_result"
    }
   ],
   "source": [
    "df_train.tail()"
   ]
  },
  {
   "cell_type": "code",
   "execution_count": 7,
   "metadata": {},
   "outputs": [
    {
     "data": {
      "text/html": [
       "<div>\n",
       "<style scoped>\n",
       "    .dataframe tbody tr th:only-of-type {\n",
       "        vertical-align: middle;\n",
       "    }\n",
       "\n",
       "    .dataframe tbody tr th {\n",
       "        vertical-align: top;\n",
       "    }\n",
       "\n",
       "    .dataframe thead th {\n",
       "        text-align: right;\n",
       "    }\n",
       "</style>\n",
       "<table border=\"1\" class=\"dataframe\">\n",
       "  <thead>\n",
       "    <tr style=\"text-align: right;\">\n",
       "      <th></th>\n",
       "      <th>dateRep</th>\n",
       "      <th>cases</th>\n",
       "      <th>deaths</th>\n",
       "      <th>countriesAndTerritories</th>\n",
       "      <th>geoId</th>\n",
       "      <th>popData2019</th>\n",
       "      <th>continentExp</th>\n",
       "      <th>Cumulative_number_for_14_days_of_COVID-19_cases_per_100000</th>\n",
       "    </tr>\n",
       "  </thead>\n",
       "  <tbody>\n",
       "    <tr>\n",
       "      <th>0</th>\n",
       "      <td>9/20/2020</td>\n",
       "      <td>125</td>\n",
       "      <td>4</td>\n",
       "      <td>Afghanistan</td>\n",
       "      <td>AF</td>\n",
       "      <td>38041757.0</td>\n",
       "      <td>Asia</td>\n",
       "      <td>1.892657</td>\n",
       "    </tr>\n",
       "    <tr>\n",
       "      <th>1</th>\n",
       "      <td>9/19/2020</td>\n",
       "      <td>47</td>\n",
       "      <td>1</td>\n",
       "      <td>Afghanistan</td>\n",
       "      <td>AF</td>\n",
       "      <td>38041757.0</td>\n",
       "      <td>Asia</td>\n",
       "      <td>1.616645</td>\n",
       "    </tr>\n",
       "    <tr>\n",
       "      <th>2</th>\n",
       "      <td>9/18/2020</td>\n",
       "      <td>0</td>\n",
       "      <td>0</td>\n",
       "      <td>Afghanistan</td>\n",
       "      <td>AF</td>\n",
       "      <td>38041757.0</td>\n",
       "      <td>Asia</td>\n",
       "      <td>1.535155</td>\n",
       "    </tr>\n",
       "    <tr>\n",
       "      <th>3</th>\n",
       "      <td>9/17/2020</td>\n",
       "      <td>17</td>\n",
       "      <td>0</td>\n",
       "      <td>Afghanistan</td>\n",
       "      <td>AF</td>\n",
       "      <td>38041757.0</td>\n",
       "      <td>Asia</td>\n",
       "      <td>1.653446</td>\n",
       "    </tr>\n",
       "    <tr>\n",
       "      <th>4</th>\n",
       "      <td>9/16/2020</td>\n",
       "      <td>40</td>\n",
       "      <td>10</td>\n",
       "      <td>Afghanistan</td>\n",
       "      <td>AF</td>\n",
       "      <td>38041757.0</td>\n",
       "      <td>Asia</td>\n",
       "      <td>1.708649</td>\n",
       "    </tr>\n",
       "  </tbody>\n",
       "</table>\n",
       "</div>"
      ],
      "text/plain": [
       "     dateRep  cases  deaths countriesAndTerritories geoId  popData2019  \\\n",
       "0  9/20/2020    125       4             Afghanistan    AF   38041757.0   \n",
       "1  9/19/2020     47       1             Afghanistan    AF   38041757.0   \n",
       "2  9/18/2020      0       0             Afghanistan    AF   38041757.0   \n",
       "3  9/17/2020     17       0             Afghanistan    AF   38041757.0   \n",
       "4  9/16/2020     40      10             Afghanistan    AF   38041757.0   \n",
       "\n",
       "  continentExp  Cumulative_number_for_14_days_of_COVID-19_cases_per_100000  \n",
       "0         Asia                                           1.892657           \n",
       "1         Asia                                           1.616645           \n",
       "2         Asia                                           1.535155           \n",
       "3         Asia                                           1.653446           \n",
       "4         Asia                                           1.708649           "
      ]
     },
     "execution_count": 7,
     "metadata": {},
     "output_type": "execute_result"
    }
   ],
   "source": [
    "df_train = df_train.drop(['countryterritoryCode', 'day','month', 'year'], axis=1)\n",
    "df_train.head()"
   ]
  },
  {
   "cell_type": "code",
   "execution_count": 8,
   "metadata": {},
   "outputs": [
    {
     "data": {
      "text/html": [
       "<div>\n",
       "<style scoped>\n",
       "    .dataframe tbody tr th:only-of-type {\n",
       "        vertical-align: middle;\n",
       "    }\n",
       "\n",
       "    .dataframe tbody tr th {\n",
       "        vertical-align: top;\n",
       "    }\n",
       "\n",
       "    .dataframe thead th {\n",
       "        text-align: right;\n",
       "    }\n",
       "</style>\n",
       "<table border=\"1\" class=\"dataframe\">\n",
       "  <thead>\n",
       "    <tr style=\"text-align: right;\">\n",
       "      <th></th>\n",
       "      <th>date</th>\n",
       "      <th>cases</th>\n",
       "      <th>deaths</th>\n",
       "      <th>country/territory</th>\n",
       "      <th>geoID</th>\n",
       "      <th>popData2019</th>\n",
       "      <th>continent</th>\n",
       "      <th>cases in last 14 days per 100000</th>\n",
       "    </tr>\n",
       "  </thead>\n",
       "  <tbody>\n",
       "    <tr>\n",
       "      <th>0</th>\n",
       "      <td>9/20/2020</td>\n",
       "      <td>125</td>\n",
       "      <td>4</td>\n",
       "      <td>Afghanistan</td>\n",
       "      <td>AF</td>\n",
       "      <td>38041757.0</td>\n",
       "      <td>Asia</td>\n",
       "      <td>1.892657</td>\n",
       "    </tr>\n",
       "    <tr>\n",
       "      <th>1</th>\n",
       "      <td>9/19/2020</td>\n",
       "      <td>47</td>\n",
       "      <td>1</td>\n",
       "      <td>Afghanistan</td>\n",
       "      <td>AF</td>\n",
       "      <td>38041757.0</td>\n",
       "      <td>Asia</td>\n",
       "      <td>1.616645</td>\n",
       "    </tr>\n",
       "    <tr>\n",
       "      <th>2</th>\n",
       "      <td>9/18/2020</td>\n",
       "      <td>0</td>\n",
       "      <td>0</td>\n",
       "      <td>Afghanistan</td>\n",
       "      <td>AF</td>\n",
       "      <td>38041757.0</td>\n",
       "      <td>Asia</td>\n",
       "      <td>1.535155</td>\n",
       "    </tr>\n",
       "    <tr>\n",
       "      <th>3</th>\n",
       "      <td>9/17/2020</td>\n",
       "      <td>17</td>\n",
       "      <td>0</td>\n",
       "      <td>Afghanistan</td>\n",
       "      <td>AF</td>\n",
       "      <td>38041757.0</td>\n",
       "      <td>Asia</td>\n",
       "      <td>1.653446</td>\n",
       "    </tr>\n",
       "    <tr>\n",
       "      <th>4</th>\n",
       "      <td>9/16/2020</td>\n",
       "      <td>40</td>\n",
       "      <td>10</td>\n",
       "      <td>Afghanistan</td>\n",
       "      <td>AF</td>\n",
       "      <td>38041757.0</td>\n",
       "      <td>Asia</td>\n",
       "      <td>1.708649</td>\n",
       "    </tr>\n",
       "  </tbody>\n",
       "</table>\n",
       "</div>"
      ],
      "text/plain": [
       "        date  cases  deaths country/territory geoID  popData2019 continent  \\\n",
       "0  9/20/2020    125       4       Afghanistan    AF   38041757.0      Asia   \n",
       "1  9/19/2020     47       1       Afghanistan    AF   38041757.0      Asia   \n",
       "2  9/18/2020      0       0       Afghanistan    AF   38041757.0      Asia   \n",
       "3  9/17/2020     17       0       Afghanistan    AF   38041757.0      Asia   \n",
       "4  9/16/2020     40      10       Afghanistan    AF   38041757.0      Asia   \n",
       "\n",
       "   cases in last 14 days per 100000  \n",
       "0                          1.892657  \n",
       "1                          1.616645  \n",
       "2                          1.535155  \n",
       "3                          1.653446  \n",
       "4                          1.708649  "
      ]
     },
     "execution_count": 8,
     "metadata": {},
     "output_type": "execute_result"
    }
   ],
   "source": [
    "df_train = df_train.rename(columns={\"dateRep\": \"date\", \"countriesAndTerritories\": \"country/territory\", \"geoId\": \"geoID\", \"continentExp\": \"continent\", \"Cumulative_number_for_14_days_of_COVID-19_cases_per_100000\": \"cases in last 14 days per 100000\" })\n",
    "df_train.head()"
   ]
  },
  {
   "cell_type": "code",
   "execution_count": 9,
   "metadata": {},
   "outputs": [
    {
     "data": {
      "text/plain": [
       "(43927, 8)"
      ]
     },
     "execution_count": 9,
     "metadata": {},
     "output_type": "execute_result"
    }
   ],
   "source": [
    "df_train.shape"
   ]
  },
  {
   "cell_type": "code",
   "execution_count": 10,
   "metadata": {},
   "outputs": [
    {
     "name": "stdout",
     "output_type": "stream",
     "text": [
      "(0, 8)\n"
     ]
    }
   ],
   "source": [
    "duplicate_rows_df_train = df_train[df_train.duplicated()]\n",
    "print(duplicate_rows_df_train.shape)"
   ]
  },
  {
   "cell_type": "code",
   "execution_count": 11,
   "metadata": {},
   "outputs": [
    {
     "name": "stdout",
     "output_type": "stream",
     "text": [
      "date                                   0\n",
      "cases                                  0\n",
      "deaths                                 0\n",
      "country/territory                      0\n",
      "geoID                                190\n",
      "popData2019                           64\n",
      "continent                              0\n",
      "cases in last 14 days per 100000    2781\n",
      "dtype: int64\n"
     ]
    }
   ],
   "source": [
    "print(df_train.isnull().sum())"
   ]
  },
  {
   "cell_type": "code",
   "execution_count": 12,
   "metadata": {},
   "outputs": [
    {
     "data": {
      "text/plain": [
       "date                                40969\n",
       "cases                               40969\n",
       "deaths                              40969\n",
       "country/territory                   40969\n",
       "geoID                               40969\n",
       "popData2019                         40969\n",
       "continent                           40969\n",
       "cases in last 14 days per 100000    40969\n",
       "dtype: int64"
      ]
     },
     "execution_count": 12,
     "metadata": {},
     "output_type": "execute_result"
    }
   ],
   "source": [
    "df_train = df_train.dropna()\n",
    "df_train.count()"
   ]
  },
  {
   "cell_type": "code",
   "execution_count": 13,
   "metadata": {},
   "outputs": [
    {
     "data": {
      "text/html": [
       "<div>\n",
       "<style scoped>\n",
       "    .dataframe tbody tr th:only-of-type {\n",
       "        vertical-align: middle;\n",
       "    }\n",
       "\n",
       "    .dataframe tbody tr th {\n",
       "        vertical-align: top;\n",
       "    }\n",
       "\n",
       "    .dataframe thead th {\n",
       "        text-align: right;\n",
       "    }\n",
       "</style>\n",
       "<table border=\"1\" class=\"dataframe\">\n",
       "  <thead>\n",
       "    <tr style=\"text-align: right;\">\n",
       "      <th></th>\n",
       "      <th>date</th>\n",
       "      <th>cases</th>\n",
       "      <th>deaths</th>\n",
       "      <th>country/territory</th>\n",
       "      <th>geoID</th>\n",
       "      <th>popData2019</th>\n",
       "      <th>continent</th>\n",
       "      <th>cases in last 14 days per 100000</th>\n",
       "    </tr>\n",
       "  </thead>\n",
       "  <tbody>\n",
       "    <tr>\n",
       "      <th>43909</th>\n",
       "      <td>4/7/2020</td>\n",
       "      <td>0</td>\n",
       "      <td>0</td>\n",
       "      <td>Zimbabwe</td>\n",
       "      <td>ZW</td>\n",
       "      <td>14645473.0</td>\n",
       "      <td>Africa</td>\n",
       "      <td>0.047796</td>\n",
       "    </tr>\n",
       "    <tr>\n",
       "      <th>43910</th>\n",
       "      <td>4/6/2020</td>\n",
       "      <td>0</td>\n",
       "      <td>0</td>\n",
       "      <td>Zimbabwe</td>\n",
       "      <td>ZW</td>\n",
       "      <td>14645473.0</td>\n",
       "      <td>Africa</td>\n",
       "      <td>0.047796</td>\n",
       "    </tr>\n",
       "    <tr>\n",
       "      <th>43911</th>\n",
       "      <td>4/5/2020</td>\n",
       "      <td>0</td>\n",
       "      <td>0</td>\n",
       "      <td>Zimbabwe</td>\n",
       "      <td>ZW</td>\n",
       "      <td>14645473.0</td>\n",
       "      <td>Africa</td>\n",
       "      <td>0.047796</td>\n",
       "    </tr>\n",
       "    <tr>\n",
       "      <th>43912</th>\n",
       "      <td>4/4/2020</td>\n",
       "      <td>1</td>\n",
       "      <td>0</td>\n",
       "      <td>Zimbabwe</td>\n",
       "      <td>ZW</td>\n",
       "      <td>14645473.0</td>\n",
       "      <td>Africa</td>\n",
       "      <td>0.054624</td>\n",
       "    </tr>\n",
       "    <tr>\n",
       "      <th>43913</th>\n",
       "      <td>4/3/2020</td>\n",
       "      <td>0</td>\n",
       "      <td>0</td>\n",
       "      <td>Zimbabwe</td>\n",
       "      <td>ZW</td>\n",
       "      <td>14645473.0</td>\n",
       "      <td>Africa</td>\n",
       "      <td>0.054624</td>\n",
       "    </tr>\n",
       "  </tbody>\n",
       "</table>\n",
       "</div>"
      ],
      "text/plain": [
       "           date  cases  deaths country/territory geoID  popData2019 continent  \\\n",
       "43909  4/7/2020      0       0          Zimbabwe    ZW   14645473.0    Africa   \n",
       "43910  4/6/2020      0       0          Zimbabwe    ZW   14645473.0    Africa   \n",
       "43911  4/5/2020      0       0          Zimbabwe    ZW   14645473.0    Africa   \n",
       "43912  4/4/2020      1       0          Zimbabwe    ZW   14645473.0    Africa   \n",
       "43913  4/3/2020      0       0          Zimbabwe    ZW   14645473.0    Africa   \n",
       "\n",
       "       cases in last 14 days per 100000  \n",
       "43909                          0.047796  \n",
       "43910                          0.047796  \n",
       "43911                          0.047796  \n",
       "43912                          0.054624  \n",
       "43913                          0.054624  "
      ]
     },
     "execution_count": 13,
     "metadata": {},
     "output_type": "execute_result"
    }
   ],
   "source": [
    "df_train.tail()"
   ]
  },
  {
   "cell_type": "code",
   "execution_count": 14,
   "metadata": {},
   "outputs": [
    {
     "data": {
      "text/html": [
       "<div>\n",
       "<style scoped>\n",
       "    .dataframe tbody tr th:only-of-type {\n",
       "        vertical-align: middle;\n",
       "    }\n",
       "\n",
       "    .dataframe tbody tr th {\n",
       "        vertical-align: top;\n",
       "    }\n",
       "\n",
       "    .dataframe thead th {\n",
       "        text-align: right;\n",
       "    }\n",
       "</style>\n",
       "<table border=\"1\" class=\"dataframe\">\n",
       "  <thead>\n",
       "    <tr style=\"text-align: right;\">\n",
       "      <th></th>\n",
       "      <th>cases</th>\n",
       "      <th>deaths</th>\n",
       "      <th>popData2019</th>\n",
       "      <th>cases in last 14 days per 100000</th>\n",
       "    </tr>\n",
       "  </thead>\n",
       "  <tbody>\n",
       "    <tr>\n",
       "      <th>count</th>\n",
       "      <td>40969.000000</td>\n",
       "      <td>40969.000000</td>\n",
       "      <td>4.096900e+04</td>\n",
       "      <td>40969.000000</td>\n",
       "    </tr>\n",
       "    <tr>\n",
       "      <th>mean</th>\n",
       "      <td>752.130294</td>\n",
       "      <td>23.370451</td>\n",
       "      <td>4.342304e+07</td>\n",
       "      <td>33.174818</td>\n",
       "    </tr>\n",
       "    <tr>\n",
       "      <th>std</th>\n",
       "      <td>4523.359310</td>\n",
       "      <td>130.765631</td>\n",
       "      <td>1.591286e+08</td>\n",
       "      <td>76.466764</td>\n",
       "    </tr>\n",
       "    <tr>\n",
       "      <th>min</th>\n",
       "      <td>-8261.000000</td>\n",
       "      <td>-1918.000000</td>\n",
       "      <td>8.150000e+02</td>\n",
       "      <td>-147.419587</td>\n",
       "    </tr>\n",
       "    <tr>\n",
       "      <th>25%</th>\n",
       "      <td>0.000000</td>\n",
       "      <td>0.000000</td>\n",
       "      <td>1.355982e+06</td>\n",
       "      <td>0.378737</td>\n",
       "    </tr>\n",
       "    <tr>\n",
       "      <th>50%</th>\n",
       "      <td>13.000000</td>\n",
       "      <td>0.000000</td>\n",
       "      <td>8.519373e+06</td>\n",
       "      <td>4.601845</td>\n",
       "    </tr>\n",
       "    <tr>\n",
       "      <th>75%</th>\n",
       "      <td>179.000000</td>\n",
       "      <td>3.000000</td>\n",
       "      <td>2.916192e+07</td>\n",
       "      <td>26.658601</td>\n",
       "    </tr>\n",
       "    <tr>\n",
       "      <th>max</th>\n",
       "      <td>97894.000000</td>\n",
       "      <td>4928.000000</td>\n",
       "      <td>1.433784e+09</td>\n",
       "      <td>1058.225943</td>\n",
       "    </tr>\n",
       "  </tbody>\n",
       "</table>\n",
       "</div>"
      ],
      "text/plain": [
       "              cases        deaths   popData2019  \\\n",
       "count  40969.000000  40969.000000  4.096900e+04   \n",
       "mean     752.130294     23.370451  4.342304e+07   \n",
       "std     4523.359310    130.765631  1.591286e+08   \n",
       "min    -8261.000000  -1918.000000  8.150000e+02   \n",
       "25%        0.000000      0.000000  1.355982e+06   \n",
       "50%       13.000000      0.000000  8.519373e+06   \n",
       "75%      179.000000      3.000000  2.916192e+07   \n",
       "max    97894.000000   4928.000000  1.433784e+09   \n",
       "\n",
       "       cases in last 14 days per 100000  \n",
       "count                      40969.000000  \n",
       "mean                          33.174818  \n",
       "std                           76.466764  \n",
       "min                         -147.419587  \n",
       "25%                            0.378737  \n",
       "50%                            4.601845  \n",
       "75%                           26.658601  \n",
       "max                         1058.225943  "
      ]
     },
     "execution_count": 14,
     "metadata": {},
     "output_type": "execute_result"
    }
   ],
   "source": [
    "df_train.describe()"
   ]
  },
  {
   "cell_type": "code",
   "execution_count": 15,
   "metadata": {
    "scrolled": true
   },
   "outputs": [
    {
     "name": "stdout",
     "output_type": "stream",
     "text": [
      "40969\n"
     ]
    }
   ],
   "source": [
    "print(df_train.cases.size)"
   ]
  },
  {
   "cell_type": "code",
   "execution_count": 16,
   "metadata": {},
   "outputs": [
    {
     "name": "stdout",
     "output_type": "stream",
     "text": [
      "40969\n"
     ]
    }
   ],
   "source": [
    "print(df_train.date.size)"
   ]
  },
  {
   "cell_type": "code",
   "execution_count": 17,
   "metadata": {},
   "outputs": [],
   "source": [
    "scaler = MinMaxScaler()"
   ]
  },
  {
   "cell_type": "code",
   "execution_count": 18,
   "metadata": {},
   "outputs": [],
   "source": [
    "df_scaled = scaler.fit_transform(df_train[['deaths']])\n"
   ]
  },
  {
   "cell_type": "code",
   "execution_count": 19,
   "metadata": {},
   "outputs": [
    {
     "data": {
      "text/plain": [
       "[<matplotlib.lines.Line2D at 0x1f375f7edd8>]"
      ]
     },
     "execution_count": 19,
     "metadata": {},
     "output_type": "execute_result"
    },
    {
     "data": {
      "image/png": "[encoded data removed]",
      "text/plain": [
       "<Figure size 432x288 with 1 Axes>"
      ]
     },
     "metadata": {
      "needs_background": "light"
     },
     "output_type": "display_data"
    }
   ],
   "source": [
    "plt.plot(df_scaled)\n"
   ]
  },
  {
   "cell_type": "code",
   "execution_count": 20,
   "metadata": {},
   "outputs": [
    {
     "data": {
      "text/plain": [
       "5"
      ]
     },
     "execution_count": 20,
     "metadata": {},
     "output_type": "execute_result"
    }
   ],
   "source": [
    "df_train['continent'].nunique()\n"
   ]
  },
  {
   "cell_type": "code",
   "execution_count": 21,
   "metadata": {},
   "outputs": [
    {
     "data": {
      "text/plain": [
       "0          Asia\n",
       "255      Europe\n",
       "451      Africa\n",
       "1085    America\n",
       "2084    Oceania\n",
       "Name: continent, dtype: object"
      ]
     },
     "execution_count": 21,
     "metadata": {},
     "output_type": "execute_result"
    }
   ],
   "source": [
    "df_train.continent.drop_duplicates()"
   ]
  },
  {
   "cell_type": "code",
   "execution_count": 22,
   "metadata": {},
   "outputs": [
    {
     "data": {
      "text/plain": [
       "208"
      ]
     },
     "execution_count": 22,
     "metadata": {},
     "output_type": "execute_result"
    }
   ],
   "source": [
    "df_train['country/territory'].nunique()\n"
   ]
  },
  {
   "cell_type": "code",
   "execution_count": 23,
   "metadata": {},
   "outputs": [
    {
     "name": "stdout",
     "output_type": "stream",
     "text": [
      "0        9/20/2020\n",
      "1        9/19/2020\n",
      "2        9/18/2020\n",
      "3        9/17/2020\n",
      "4        9/16/2020\n",
      "5        9/15/2020\n",
      "6        9/14/2020\n",
      "7        9/13/2020\n",
      "8        9/12/2020\n",
      "9        9/11/2020\n",
      "10       9/10/2020\n",
      "11        9/9/2020\n",
      "12        9/8/2020\n",
      "13        9/7/2020\n",
      "14        9/6/2020\n",
      "15        9/5/2020\n",
      "16        9/4/2020\n",
      "17        9/3/2020\n",
      "18        9/2/2020\n",
      "19        9/1/2020\n",
      "20       8/31/2020\n",
      "21       8/30/2020\n",
      "22       8/29/2020\n",
      "23       8/28/2020\n",
      "24       8/27/2020\n",
      "25       8/26/2020\n",
      "26       8/25/2020\n",
      "27       8/24/2020\n",
      "28       8/23/2020\n",
      "29       8/22/2020\n",
      "           ...    \n",
      "43884     5/2/2020\n",
      "43885     5/1/2020\n",
      "43886    4/30/2020\n",
      "43887    4/29/2020\n",
      "43888    4/28/2020\n",
      "43889    4/27/2020\n",
      "43890    4/26/2020\n",
      "43891    4/25/2020\n",
      "43892    4/24/2020\n",
      "43893    4/23/2020\n",
      "43894    4/22/2020\n",
      "43895    4/21/2020\n",
      "43896    4/20/2020\n",
      "43897    4/19/2020\n",
      "43898    4/18/2020\n",
      "43899    4/17/2020\n",
      "43900    4/16/2020\n",
      "43901    4/15/2020\n",
      "43902    4/14/2020\n",
      "43903    4/13/2020\n",
      "43904    4/12/2020\n",
      "43905    4/11/2020\n",
      "43906    4/10/2020\n",
      "43907     4/9/2020\n",
      "43908     4/8/2020\n",
      "43909     4/7/2020\n",
      "43910     4/6/2020\n",
      "43911     4/5/2020\n",
      "43912     4/4/2020\n",
      "43913     4/3/2020\n",
      "Name: date, Length: 40969, dtype: object\n",
      "0       2020-09-20\n",
      "1       2020-09-19\n",
      "2       2020-09-18\n",
      "3       2020-09-17\n",
      "4       2020-09-16\n",
      "5       2020-09-15\n",
      "6       2020-09-14\n",
      "7       2020-09-13\n",
      "8       2020-09-12\n",
      "9       2020-09-11\n",
      "10      2020-09-10\n",
      "11      2020-09-09\n",
      "12      2020-09-08\n",
      "13      2020-09-07\n",
      "14      2020-09-06\n",
      "15      2020-09-05\n",
      "16      2020-09-04\n",
      "17      2020-09-03\n",
      "18      2020-09-02\n",
      "19      2020-09-01\n",
      "20      2020-08-31\n",
      "21      2020-08-30\n",
      "22      2020-08-29\n",
      "23      2020-08-28\n",
      "24      2020-08-27\n",
      "25      2020-08-26\n",
      "26      2020-08-25\n",
      "27      2020-08-24\n",
      "28      2020-08-23\n",
      "29      2020-08-22\n",
      "           ...    \n",
      "43884   2020-05-02\n",
      "43885   2020-05-01\n",
      "43886   2020-04-30\n",
      "43887   2020-04-29\n",
      "43888   2020-04-28\n",
      "43889   2020-04-27\n",
      "43890   2020-04-26\n",
      "43891   2020-04-25\n",
      "43892   2020-04-24\n",
      "43893   2020-04-23\n",
      "43894   2020-04-22\n",
      "43895   2020-04-21\n",
      "43896   2020-04-20\n",
      "43897   2020-04-19\n",
      "43898   2020-04-18\n",
      "43899   2020-04-17\n",
      "43900   2020-04-16\n",
      "43901   2020-04-15\n",
      "43902   2020-04-14\n",
      "43903   2020-04-13\n",
      "43904   2020-04-12\n",
      "43905   2020-04-11\n",
      "43906   2020-04-10\n",
      "43907   2020-04-09\n",
      "43908   2020-04-08\n",
      "43909   2020-04-07\n",
      "43910   2020-04-06\n",
      "43911   2020-04-05\n",
      "43912   2020-04-04\n",
      "43913   2020-04-03\n",
      "Name: date, Length: 40969, dtype: datetime64[ns]\n"
     ]
    }
   ],
   "source": [
    "print(df_train['date'])\n",
    "df_train['date'] = pd.to_datetime(df_train['date'], format=\"%m/%d/%Y\")\n",
    "print(df_train['date'])"
   ]
  },
  {
   "cell_type": "code",
   "execution_count": 24,
   "metadata": {},
   "outputs": [
    {
     "name": "stderr",
     "output_type": "stream",
     "text": [
      "C:\\Users\\afm6343\\AppData\\Local\\Continuum\\anaconda3\\lib\\site-packages\\pandas\\plotting\\_converter.py:129: FutureWarning: Using an implicitly registered datetime converter for a matplotlib plotting method. The converter was registered by pandas on import. Future versions of pandas will require you to explicitly register matplotlib converters.\n",
      "\n",
      "To register the converters:\n",
      "\t>>> from pandas.plotting import register_matplotlib_converters\n",
      "\t>>> register_matplotlib_converters()\n",
      "  warnings.warn(msg, FutureWarning)\n"
     ]
    },
    {
     "data": {
      "text/plain": [
       "<matplotlib.legend.Legend at 0x1f3766f0c50>"
      ]
     },
     "execution_count": 24,
     "metadata": {},
     "output_type": "execute_result"
    },
    {
     "data": {
      "image/png": "[encoded data removed]",
      "text/plain": [
       "<Figure size 432x288 with 1 Axes>"
      ]
     },
     "metadata": {
      "needs_background": "light"
     },
     "output_type": "display_data"
    }
   ],
   "source": [
    "groups = df_train.groupby('continent')\n",
    "for name, group in groups:\n",
    "    plt.plot(group['date'], group['deaths'], marker='o', linestyle='', label=name)\n",
    "plt.legend()"
   ]
  },
  {
   "cell_type": "code",
   "execution_count": 25,
   "metadata": {},
   "outputs": [],
   "source": [
    "df_america = df_train[df_train['continent'] == 'America']\n",
    "df_asia = df_train[df_train['continent'] == 'Asia']\n",
    "df_europe = df_train[df_train['continent'] == 'Europe']\n",
    "df_africa = df_train[df_train['continent'] == 'Africa']\n",
    "df_oceania = df_train[df_train['continent'] == 'Oceania']"
   ]
  },
  {
   "cell_type": "code",
   "execution_count": 26,
   "metadata": {
    "scrolled": true
   },
   "outputs": [
    {
     "data": {
      "text/plain": [
       "<matplotlib.legend.Legend at 0x1f3766f0b70>"
      ]
     },
     "execution_count": 26,
     "metadata": {},
     "output_type": "execute_result"
    },
    {
     "data": {
      "image/png": "[encoded data removed]",
      "text/plain": [
       "<Figure size 432x288 with 1 Axes>"
      ]
     },
     "metadata": {
      "needs_background": "light"
     },
     "output_type": "display_data"
    }
   ],
   "source": [
    "groups = df_train.groupby('continent')\n",
    "for name, group in groups:\n",
    "    plt.plot(group['date'], group['cases'], marker='o', linestyle='', label=name)\n",
    "plt.legend()"
   ]
  },
  {
   "cell_type": "code",
   "execution_count": 27,
   "metadata": {},
   "outputs": [],
   "source": [
    "df_train['deathrate'] = df_train['deaths']/ df_train['cases']"
   ]
  },
  {
   "cell_type": "code",
   "execution_count": 28,
   "metadata": {},
   "outputs": [
    {
     "data": {
      "text/html": [
       "<div>\n",
       "<style scoped>\n",
       "    .dataframe tbody tr th:only-of-type {\n",
       "        vertical-align: middle;\n",
       "    }\n",
       "\n",
       "    .dataframe tbody tr th {\n",
       "        vertical-align: top;\n",
       "    }\n",
       "\n",
       "    .dataframe thead th {\n",
       "        text-align: right;\n",
       "    }\n",
       "</style>\n",
       "<table border=\"1\" class=\"dataframe\">\n",
       "  <thead>\n",
       "    <tr style=\"text-align: right;\">\n",
       "      <th></th>\n",
       "      <th>date</th>\n",
       "      <th>cases</th>\n",
       "      <th>deaths</th>\n",
       "      <th>country/territory</th>\n",
       "      <th>geoID</th>\n",
       "      <th>popData2019</th>\n",
       "      <th>continent</th>\n",
       "      <th>cases in last 14 days per 100000</th>\n",
       "      <th>deathrate</th>\n",
       "    </tr>\n",
       "  </thead>\n",
       "  <tbody>\n",
       "    <tr>\n",
       "      <th>0</th>\n",
       "      <td>2020-09-20</td>\n",
       "      <td>125</td>\n",
       "      <td>4</td>\n",
       "      <td>Afghanistan</td>\n",
       "      <td>AF</td>\n",
       "      <td>38041757.0</td>\n",
       "      <td>Asia</td>\n",
       "      <td>1.892657</td>\n",
       "      <td>0.032000</td>\n",
       "    </tr>\n",
       "    <tr>\n",
       "      <th>1</th>\n",
       "      <td>2020-09-19</td>\n",
       "      <td>47</td>\n",
       "      <td>1</td>\n",
       "      <td>Afghanistan</td>\n",
       "      <td>AF</td>\n",
       "      <td>38041757.0</td>\n",
       "      <td>Asia</td>\n",
       "      <td>1.616645</td>\n",
       "      <td>0.021277</td>\n",
       "    </tr>\n",
       "    <tr>\n",
       "      <th>2</th>\n",
       "      <td>2020-09-18</td>\n",
       "      <td>0</td>\n",
       "      <td>0</td>\n",
       "      <td>Afghanistan</td>\n",
       "      <td>AF</td>\n",
       "      <td>38041757.0</td>\n",
       "      <td>Asia</td>\n",
       "      <td>1.535155</td>\n",
       "      <td>NaN</td>\n",
       "    </tr>\n",
       "    <tr>\n",
       "      <th>3</th>\n",
       "      <td>2020-09-17</td>\n",
       "      <td>17</td>\n",
       "      <td>0</td>\n",
       "      <td>Afghanistan</td>\n",
       "      <td>AF</td>\n",
       "      <td>38041757.0</td>\n",
       "      <td>Asia</td>\n",
       "      <td>1.653446</td>\n",
       "      <td>0.000000</td>\n",
       "    </tr>\n",
       "    <tr>\n",
       "      <th>4</th>\n",
       "      <td>2020-09-16</td>\n",
       "      <td>40</td>\n",
       "      <td>10</td>\n",
       "      <td>Afghanistan</td>\n",
       "      <td>AF</td>\n",
       "      <td>38041757.0</td>\n",
       "      <td>Asia</td>\n",
       "      <td>1.708649</td>\n",
       "      <td>0.250000</td>\n",
       "    </tr>\n",
       "  </tbody>\n",
       "</table>\n",
       "</div>"
      ],
      "text/plain": [
       "        date  cases  deaths country/territory geoID  popData2019 continent  \\\n",
       "0 2020-09-20    125       4       Afghanistan    AF   38041757.0      Asia   \n",
       "1 2020-09-19     47       1       Afghanistan    AF   38041757.0      Asia   \n",
       "2 2020-09-18      0       0       Afghanistan    AF   38041757.0      Asia   \n",
       "3 2020-09-17     17       0       Afghanistan    AF   38041757.0      Asia   \n",
       "4 2020-09-16     40      10       Afghanistan    AF   38041757.0      Asia   \n",
       "\n",
       "   cases in last 14 days per 100000  deathrate  \n",
       "0                          1.892657   0.032000  \n",
       "1                          1.616645   0.021277  \n",
       "2                          1.535155        NaN  \n",
       "3                          1.653446   0.000000  \n",
       "4                          1.708649   0.250000  "
      ]
     },
     "execution_count": 28,
     "metadata": {},
     "output_type": "execute_result"
    }
   ],
   "source": [
    "df_train.head()"
   ]
  },
  {
   "cell_type": "code",
   "execution_count": 29,
   "metadata": {},
   "outputs": [],
   "source": [
    "df_train['deathrate'] = df_train['deathrate'].fillna(0)"
   ]
  },
  {
   "cell_type": "code",
   "execution_count": 30,
   "metadata": {},
   "outputs": [
    {
     "data": {
      "text/html": [
       "<div>\n",
       "<style scoped>\n",
       "    .dataframe tbody tr th:only-of-type {\n",
       "        vertical-align: middle;\n",
       "    }\n",
       "\n",
       "    .dataframe tbody tr th {\n",
       "        vertical-align: top;\n",
       "    }\n",
       "\n",
       "    .dataframe thead th {\n",
       "        text-align: right;\n",
       "    }\n",
       "</style>\n",
       "<table border=\"1\" class=\"dataframe\">\n",
       "  <thead>\n",
       "    <tr style=\"text-align: right;\">\n",
       "      <th></th>\n",
       "      <th>date</th>\n",
       "      <th>cases</th>\n",
       "      <th>deaths</th>\n",
       "      <th>country/territory</th>\n",
       "      <th>geoID</th>\n",
       "      <th>popData2019</th>\n",
       "      <th>continent</th>\n",
       "      <th>cases in last 14 days per 100000</th>\n",
       "      <th>deathrate</th>\n",
       "    </tr>\n",
       "  </thead>\n",
       "  <tbody>\n",
       "    <tr>\n",
       "      <th>0</th>\n",
       "      <td>2020-09-20</td>\n",
       "      <td>125</td>\n",
       "      <td>4</td>\n",
       "      <td>Afghanistan</td>\n",
       "      <td>AF</td>\n",
       "      <td>38041757.0</td>\n",
       "      <td>Asia</td>\n",
       "      <td>1.892657</td>\n",
       "      <td>0.032000</td>\n",
       "    </tr>\n",
       "    <tr>\n",
       "      <th>1</th>\n",
       "      <td>2020-09-19</td>\n",
       "      <td>47</td>\n",
       "      <td>1</td>\n",
       "      <td>Afghanistan</td>\n",
       "      <td>AF</td>\n",
       "      <td>38041757.0</td>\n",
       "      <td>Asia</td>\n",
       "      <td>1.616645</td>\n",
       "      <td>0.021277</td>\n",
       "    </tr>\n",
       "    <tr>\n",
       "      <th>2</th>\n",
       "      <td>2020-09-18</td>\n",
       "      <td>0</td>\n",
       "      <td>0</td>\n",
       "      <td>Afghanistan</td>\n",
       "      <td>AF</td>\n",
       "      <td>38041757.0</td>\n",
       "      <td>Asia</td>\n",
       "      <td>1.535155</td>\n",
       "      <td>0.000000</td>\n",
       "    </tr>\n",
       "    <tr>\n",
       "      <th>3</th>\n",
       "      <td>2020-09-17</td>\n",
       "      <td>17</td>\n",
       "      <td>0</td>\n",
       "      <td>Afghanistan</td>\n",
       "      <td>AF</td>\n",
       "      <td>38041757.0</td>\n",
       "      <td>Asia</td>\n",
       "      <td>1.653446</td>\n",
       "      <td>0.000000</td>\n",
       "    </tr>\n",
       "    <tr>\n",
       "      <th>4</th>\n",
       "      <td>2020-09-16</td>\n",
       "      <td>40</td>\n",
       "      <td>10</td>\n",
       "      <td>Afghanistan</td>\n",
       "      <td>AF</td>\n",
       "      <td>38041757.0</td>\n",
       "      <td>Asia</td>\n",
       "      <td>1.708649</td>\n",
       "      <td>0.250000</td>\n",
       "    </tr>\n",
       "  </tbody>\n",
       "</table>\n",
       "</div>"
      ],
      "text/plain": [
       "        date  cases  deaths country/territory geoID  popData2019 continent  \\\n",
       "0 2020-09-20    125       4       Afghanistan    AF   38041757.0      Asia   \n",
       "1 2020-09-19     47       1       Afghanistan    AF   38041757.0      Asia   \n",
       "2 2020-09-18      0       0       Afghanistan    AF   38041757.0      Asia   \n",
       "3 2020-09-17     17       0       Afghanistan    AF   38041757.0      Asia   \n",
       "4 2020-09-16     40      10       Afghanistan    AF   38041757.0      Asia   \n",
       "\n",
       "   cases in last 14 days per 100000  deathrate  \n",
       "0                          1.892657   0.032000  \n",
       "1                          1.616645   0.021277  \n",
       "2                          1.535155   0.000000  \n",
       "3                          1.653446   0.000000  \n",
       "4                          1.708649   0.250000  "
      ]
     },
     "execution_count": 30,
     "metadata": {},
     "output_type": "execute_result"
    }
   ],
   "source": [
    "df_train.head()"
   ]
  },
  {
   "cell_type": "code",
   "execution_count": 31,
   "metadata": {
    "scrolled": true
   },
   "outputs": [
    {
     "data": {
      "text/plain": [
       "<matplotlib.legend.Legend at 0x1f377759b70>"
      ]
     },
     "execution_count": 31,
     "metadata": {},
     "output_type": "execute_result"
    },
    {
     "data": {
      "image/png": "[encoded data removed]",
      "text/plain": [
       "<Figure size 432x288 with 1 Axes>"
      ]
     },
     "metadata": {
      "needs_background": "light"
     },
     "output_type": "display_data"
    }
   ],
   "source": [
    "groups = df_train.groupby('continent')\n",
    "for name, group in groups:\n",
    "    plt.plot(group['date'], group['deathrate'], marker='o', linestyle='', label=name)\n",
    "plt.legend()"
   ]
  },
  {
   "cell_type": "code",
   "execution_count": 32,
   "metadata": {},
   "outputs": [
    {
     "data": {
      "text/html": [
       "<div>\n",
       "<style scoped>\n",
       "    .dataframe tbody tr th:only-of-type {\n",
       "        vertical-align: middle;\n",
       "    }\n",
       "\n",
       "    .dataframe tbody tr th {\n",
       "        vertical-align: top;\n",
       "    }\n",
       "\n",
       "    .dataframe thead th {\n",
       "        text-align: right;\n",
       "    }\n",
       "</style>\n",
       "<table border=\"1\" class=\"dataframe\">\n",
       "  <thead>\n",
       "    <tr style=\"text-align: right;\">\n",
       "      <th></th>\n",
       "      <th>date</th>\n",
       "      <th>cases</th>\n",
       "      <th>deaths</th>\n",
       "      <th>country/territory</th>\n",
       "      <th>geoID</th>\n",
       "      <th>popData2019</th>\n",
       "      <th>continent</th>\n",
       "      <th>cases in last 14 days per 100000</th>\n",
       "    </tr>\n",
       "  </thead>\n",
       "  <tbody>\n",
       "    <tr>\n",
       "      <th>1085</th>\n",
       "      <td>2020-09-20</td>\n",
       "      <td>0</td>\n",
       "      <td>0</td>\n",
       "      <td>Anguilla</td>\n",
       "      <td>AI</td>\n",
       "      <td>14872.0</td>\n",
       "      <td>America</td>\n",
       "      <td>0.0</td>\n",
       "    </tr>\n",
       "    <tr>\n",
       "      <th>1086</th>\n",
       "      <td>2020-09-19</td>\n",
       "      <td>0</td>\n",
       "      <td>0</td>\n",
       "      <td>Anguilla</td>\n",
       "      <td>AI</td>\n",
       "      <td>14872.0</td>\n",
       "      <td>America</td>\n",
       "      <td>0.0</td>\n",
       "    </tr>\n",
       "    <tr>\n",
       "      <th>1087</th>\n",
       "      <td>2020-09-18</td>\n",
       "      <td>0</td>\n",
       "      <td>0</td>\n",
       "      <td>Anguilla</td>\n",
       "      <td>AI</td>\n",
       "      <td>14872.0</td>\n",
       "      <td>America</td>\n",
       "      <td>0.0</td>\n",
       "    </tr>\n",
       "    <tr>\n",
       "      <th>1088</th>\n",
       "      <td>2020-09-17</td>\n",
       "      <td>0</td>\n",
       "      <td>0</td>\n",
       "      <td>Anguilla</td>\n",
       "      <td>AI</td>\n",
       "      <td>14872.0</td>\n",
       "      <td>America</td>\n",
       "      <td>0.0</td>\n",
       "    </tr>\n",
       "    <tr>\n",
       "      <th>1089</th>\n",
       "      <td>2020-09-16</td>\n",
       "      <td>0</td>\n",
       "      <td>0</td>\n",
       "      <td>Anguilla</td>\n",
       "      <td>AI</td>\n",
       "      <td>14872.0</td>\n",
       "      <td>America</td>\n",
       "      <td>0.0</td>\n",
       "    </tr>\n",
       "  </tbody>\n",
       "</table>\n",
       "</div>"
      ],
      "text/plain": [
       "           date  cases  deaths country/territory geoID  popData2019 continent  \\\n",
       "1085 2020-09-20      0       0          Anguilla    AI      14872.0   America   \n",
       "1086 2020-09-19      0       0          Anguilla    AI      14872.0   America   \n",
       "1087 2020-09-18      0       0          Anguilla    AI      14872.0   America   \n",
       "1088 2020-09-17      0       0          Anguilla    AI      14872.0   America   \n",
       "1089 2020-09-16      0       0          Anguilla    AI      14872.0   America   \n",
       "\n",
       "      cases in last 14 days per 100000  \n",
       "1085                               0.0  \n",
       "1086                               0.0  \n",
       "1087                               0.0  \n",
       "1088                               0.0  \n",
       "1089                               0.0  "
      ]
     },
     "execution_count": 32,
     "metadata": {},
     "output_type": "execute_result"
    }
   ],
   "source": [
    "df_america.head()"
   ]
  },
  {
   "cell_type": "code",
   "execution_count": 33,
   "metadata": {},
   "outputs": [
    {
     "name": "stderr",
     "output_type": "stream",
     "text": [
      "C:\\Users\\afm6343\\AppData\\Local\\Continuum\\anaconda3\\lib\\site-packages\\ipykernel_launcher.py:1: SettingWithCopyWarning: \n",
      "A value is trying to be set on a copy of a slice from a DataFrame.\n",
      "Try using .loc[row_indexer,col_indexer] = value instead\n",
      "\n",
      "See the caveats in the documentation: http://pandas.pydata.org/pandas-docs/stable/indexing.html#indexing-view-versus-copy\n",
      "  \"\"\"Entry point for launching an IPython kernel.\n"
     ]
    }
   ],
   "source": [
    "df_america['deathrate'] = df_america['deaths']/ df_america['cases']"
   ]
  },
  {
   "cell_type": "code",
   "execution_count": 36,
   "metadata": {},
   "outputs": [
    {
     "data": {
      "image/png": "[encoded data removed]",
      "text/plain": [
       "<Figure size 432x288 with 1 Axes>"
      ]
     },
     "metadata": {
      "needs_background": "light"
     },
     "output_type": "display_data"
    }
   ],
   "source": [
    "fig, axis = plt.subplots()\n",
    "axis.set_xlabel('date')\n",
    "axis.set_ylabel('deathrate')\n",
    "plt.title('American death rate')\n",
    "scatter_plot = axis.scatter(df_america['date'], \n",
    "    df_america['deathrate'],\n",
    "    facecolors = 'orange',\n",
    "    edgecolors = 'orange')"
   ]
  },
  {
   "cell_type": "code",
   "execution_count": null,
   "metadata": {},
   "outputs": [],
   "source": []
  }
 ],
 "metadata": {
  "kernelspec": {
   "display_name": "Python 3",
   "language": "python",
   "name": "python3"
  },
  "language_info": {
   "codemirror_mode": {
    "name": "ipython",
    "version": 3
   },
   "file_extension": ".py",
   "mimetype": "text/x-python",
   "name": "python",
   "nbconvert_exporter": "python",
   "pygments_lexer": "ipython3",
   "version": "3.7.3"
  }
 },
 "nbformat": 4,
 "nbformat_minor": 2
}
